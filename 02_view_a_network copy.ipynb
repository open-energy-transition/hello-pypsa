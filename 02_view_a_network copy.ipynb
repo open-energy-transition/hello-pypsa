{
  "cells": [
    {
      "cell_type": "markdown",
      "metadata": {},
      "source": [
        "## PyPSA Introduction Notebook"
      ]
    },
    {
      "cell_type": "markdown",
      "metadata": {},
      "source": [
        "### 🎯 Objective\n",
        "\n",
        "This notebook provides a deeper dive into the PyPSA toolbox using a network generated from a **PyPSA-Earth** workflow.\n",
        "\n",
        "We work with two versions of the same network:\n",
        "- **Pre-network**: before solving the optimization problem  \n",
        "- **Post-network**: after solving, containing results\n",
        "\n",
        "Since solving these models can be computationally intensive, both versions are provided for convenience.\n",
        "\n",
        "In this session, we will explore the more detailed network model and introduce the **PyPSA statistics library** to analyze system-level results.\n",
        "\n"
      ]
    },
    {
      "cell_type": "markdown",
      "metadata": {},
      "source": [
        "### ✍️ Authors\n",
        "<div style=\"display: flex; align-items: center; justify-content: space-between; flex-wrap: nowrap; gap: 2rem;\">\n",
        "\n",
        "  <div style=\"flex: 1; min-width: 250px;\">\n",
        "      <a href=\"https://www.linkedin.com/in/virio-andreyana\" target=\"_blank\">Virio Andreyana</a><br>\n",
        "      <a href=\"https://www.linkedin.com/in/andreas-denyer\" target=\"_blank\">Andreas Denyer</a><br>\n",
        "      <a href=\"https://www.linkedin.com/in/priyeshgosai\" target=\"_blank\">Priyesh Gosai</a>\n",
        "    </p>\n",
        "  </div>\n",
        "\n",
        "  <div style=\"flex-shrink: 0;\">\n",
        "    <a href=\"https://openenergytransition.org/index.html\" target=\"_blank\">\n",
        "      <img src=\"https://openenergytransition.org/assets/img/oet-logo-red-n-subtitle.png\" height=\"60\" alt=\"Open Energy Transition logo\">\n",
        "    </a>\n",
        "  </div>\n",
        "\n",
        "</div>\n"
      ]
    },
    {
      "cell_type": "markdown",
      "metadata": {},
      "source": [
        "### ⚙️ Setup Environment"
      ]
    },
    {
      "cell_type": "code",
      "execution_count": null,
      "metadata": {},
      "outputs": [],
      "source": [
        "# @title Install the required packages\n",
        "# @markdown Run this cell to install the necessary Python packages for the project.\n",
        "import subprocess, sys, importlib\n",
        "\n",
        "try:\n",
        "    from importlib import metadata  # Python 3.8+\n",
        "except ImportError:\n",
        "    import importlib_metadata as metadata  # Backport for older versions\n",
        "\n",
        "packages = [\n",
        "    \"pypsa\",        # power-system modelling & optimization toolbox\n",
        "    \"pypsa[excel]\", # pypsa with Excel I/O support\n",
        "    \"folium\",       # interactive leaflet-based maps in Python\n",
        "    \"mapclassify\"   # spatial data classification for choropleth maps\n",
        "]\n",
        "\n",
        "# Install packages\n",
        "subprocess.run(\n",
        "    [sys.executable, \"-m\", \"pip\", \"install\", \"-q\", *packages],\n",
        "    check=True\n",
        ")\n",
        "\n",
        "# Check and report installed versions\n",
        "base_names = [pkg.split(\"[\")[0] for pkg in packages]\n",
        "missing = [p for p in base_names if importlib.util.find_spec(p) is None]\n",
        "\n",
        "if not missing:\n",
        "    print(\"✅ All packages installed successfully.\\n\")\n",
        "    for pkg in base_names:\n",
        "        try:\n",
        "            version = metadata.version(pkg)\n",
        "            print(f\"📦 {pkg} version {version}\")\n",
        "        except metadata.PackageNotFoundError:\n",
        "            print(f\"⚠️ {pkg} is not found in metadata.\")\n",
        "else:\n",
        "    print(f\"❌ Missing: {', '.join(missing)}\")\n",
        "\n"
      ]
    },
    {
      "cell_type": "markdown",
      "metadata": {
        "id": "ZEpNYnmK8KBq"
      },
      "source": [
        "### 🗃️ Data in the PyPSA Object"
      ]
    },
    {
      "cell_type": "code",
      "execution_count": null,
      "metadata": {
        "cellView": "form",
        "id": "rT8U0LMP8KBr"
      },
      "outputs": [],
      "source": [
        "# @title Download prepared networks\n",
        "# @markdown We have prepared a case study that can be explored in this notebook. The case is based on the electircity network from PyPSA. To allow users to interact with the data we have prepared two networks. One before the optimization and another after the optimization. Running this optimization is a computationally expensive task.\n",
        "# @markdown * `pre-network.nc`: The network is prepared before solving it.\n",
        "# @markdown * `post-network.nc`: The solved network\n",
        "\n",
        "from urllib.request import urlretrieve\n",
        "\n",
        "urls = {\n",
        "    \"pre-network.nc\": \"https://drive.usercontent.google.com/download?id=17b7YZGXKczY2K5sRPUDJkD5AVwgbOgAh&export=download\",\n",
        "    \"post-network.nc\": \"https://drive.usercontent.google.com/download?id=1qIN0tlZBACPtKCBxHUpBAecBqYsy-sTV&export=download&confirm=t&uuid=cf9cb5cf-de33-4ef4-9f49-5f01f2d571b1\",\n",
        "    }\n",
        "for name, url in urls.items():\n",
        "    print(f\"Retrieving {name} from Google Drive\")\n",
        "    urlretrieve(url, name)\n",
        "print(\"Done\")"
      ]
    },
    {
      "cell_type": "markdown",
      "metadata": {
        "id": "ZbiaqRdV8KBr"
      },
      "source": [
        "Import the `pre-network` to an object called `pre_network`"
      ]
    },
    {
      "cell_type": "code",
      "execution_count": null,
      "metadata": {
        "id": "xltP55Li8KBr"
      },
      "outputs": [],
      "source": [
        "import pypsa\n",
        "import pandas as pd\n",
        "pre_network = pypsa.Network(\"pre-network.nc\")"
      ]
    },
    {
      "cell_type": "markdown",
      "metadata": {
        "id": "DzYVG_Yw8KBr"
      },
      "source": [
        "Inspect the data in the network.\n",
        "\n",
        "_All data in a PyPSA model is stored as pandas DataFrames, allowing you to apply any standard pandas operations directly to PyPSA network components._"
      ]
    },
    {
      "cell_type": "code",
      "execution_count": null,
      "metadata": {
        "id": "fmx9qZGM8KBr"
      },
      "outputs": [],
      "source": [
        "pre_network.buses"
      ]
    },
    {
      "cell_type": "code",
      "execution_count": null,
      "metadata": {
        "id": "lYNWqt5o8KBr"
      },
      "outputs": [],
      "source": [
        "pre_network.generators"
      ]
    },
    {
      "cell_type": "code",
      "execution_count": null,
      "metadata": {
        "id": "8ExT8pLW8KBr"
      },
      "outputs": [],
      "source": [
        "pre_network.generators_t.p_max_pu.head()"
      ]
    },
    {
      "cell_type": "code",
      "execution_count": null,
      "metadata": {
        "id": "n2-DoUmS8KBr"
      },
      "outputs": [],
      "source": [
        "pre_network.generators_t.p_max_pu.plot()"
      ]
    },
    {
      "cell_type": "code",
      "execution_count": null,
      "metadata": {
        "id": "JDJ0TQ6H8KBu"
      },
      "outputs": [],
      "source": [
        "pre_network.links"
      ]
    },
    {
      "cell_type": "code",
      "execution_count": null,
      "metadata": {
        "id": "g5j4bSdQ8KBu"
      },
      "outputs": [],
      "source": [
        "pre_network.lines"
      ]
    },
    {
      "cell_type": "code",
      "execution_count": null,
      "metadata": {
        "id": "FcSF0Fdq8KBu"
      },
      "outputs": [],
      "source": [
        "pre_network.loads"
      ]
    },
    {
      "cell_type": "markdown",
      "metadata": {
        "id": "X-zhKndv8KBu"
      },
      "source": [
        "If you wanted to solve the network we could run:\n",
        "```python\n",
        "pre_network.optimize(solver_name = 'gurobi') # Assuming that you have a licence.\n",
        "```\n",
        "\n",
        "The solved network data is imported from the file `post-network.nc`"
      ]
    },
    {
      "cell_type": "code",
      "execution_count": null,
      "metadata": {
        "id": "hmsNiKbe8KBu"
      },
      "outputs": [],
      "source": [
        "import pypsa\n",
        "import pandas as pd\n",
        "post_network = pypsa.Network(\"post-network.nc\")"
      ]
    },
    {
      "cell_type": "markdown",
      "metadata": {
        "id": "KitkhoY28KBu"
      },
      "source": [
        "#### 🧮 Results"
      ]
    },
    {
      "cell_type": "markdown",
      "metadata": {
        "id": "JLg3azbq8KBu"
      },
      "source": [
        "---\n",
        "\n",
        "📊 `pypsa.statistics`\n",
        "\n",
        "The `pypsa.statistics` module provides a set of high-level functions for analyzing and summarizing the results of PyPSA models. It enables users to compute key metrics such as:\n",
        "\n",
        "- **Generation mix** by technology  \n",
        "- **Installed capacity** summaries  \n",
        "- **Line loading** and **congestion metrics**  \n",
        "- **Costs and revenues** by component  \n",
        "- **CO₂ emissions** and carbon intensity  \n",
        "- **Regional energy balances** and **power flows**\n",
        "\n",
        "These functions are especially useful for post-processing model results and producing plots or reports for scenario analysis, capacity expansion studies, and policy evaluation.\n",
        "\n",
        "The module works directly with the PyPSA `Network` object and leverages pandas operations internally, so results are returned as DataFrames that can be easily visualized or exported.\n",
        "\n",
        "\n"
      ]
    },
    {
      "cell_type": "code",
      "execution_count": null,
      "metadata": {
        "id": "rJ2oGTV38KBu"
      },
      "outputs": [],
      "source": [
        "s = post_network.statistics"
      ]
    },
    {
      "cell_type": "markdown",
      "metadata": {
        "id": "3kkSI_nE8KBu"
      },
      "source": [
        "You can easily have an comprehensive overview of the system level results."
      ]
    },
    {
      "cell_type": "code",
      "execution_count": null,
      "metadata": {
        "id": "Xx3QAIAl8KBu"
      },
      "outputs": [],
      "source": [
        "s().head()"
      ]
    },
    {
      "cell_type": "markdown",
      "metadata": {
        "id": "u_T5gqc_8KBu"
      },
      "source": [
        "Let's have a look to optimal renewable capacities."
      ]
    },
    {
      "cell_type": "code",
      "execution_count": null,
      "metadata": {
        "id": "vzzdP8AL8KBv"
      },
      "outputs": [],
      "source": [
        "(\n",
        "    s.optimal_capacity(\n",
        "        bus_carrier=[\"AC\", \"low voltage\"],\n",
        "        comps=\"Generator\",\n",
        "    ).div(\n",
        "        1e3\n",
        "    )  # GW\n",
        ")"
      ]
    },
    {
      "cell_type": "markdown",
      "metadata": {
        "id": "O6svXMqD8KBv"
      },
      "source": [
        "You can get it as fancy as you want!"
      ]
    },
    {
      "cell_type": "code",
      "execution_count": null,
      "metadata": {
        "id": "vp6n0kj68KBv"
      },
      "outputs": [],
      "source": [
        "(\n",
        "    s.optimal_capacity(\n",
        "        bus_carrier=[\"AC\", \"low voltage\"],\n",
        "        groupby=[\"location\", \"carrier\"],\n",
        "        comps=\"Generator\",\n",
        "    )\n",
        "    .div(1e3)  # GW\n",
        "    .to_frame(name=\"p_nom_opt\")\n",
        "    .pivot_table(index=\"location\", columns=\"carrier\", values=\"p_nom_opt\")\n",
        "    .fillna(0)\n",
        "    .assign(Total=lambda df: df.sum(axis=1))\n",
        "    .sort_values(by=\"Total\", ascending=False)\n",
        "    .round(2)\n",
        ").head()"
      ]
    },
    {
      "cell_type": "markdown",
      "metadata": {
        "id": "JPD5cvEm8KBv"
      },
      "source": [
        "We can also easily look into the energy balance for a specific carrier by Node.\n",
        "\n",
        "So, let's investigate the Hydrogen balance at the Z1 and Z2 nodes of Germany (DE):"
      ]
    },
    {
      "cell_type": "code",
      "execution_count": null,
      "metadata": {
        "id": "8dj8v7pw8KBv"
      },
      "outputs": [],
      "source": [
        "df = (\n",
        "    s.energy_balance(groupby=[\"bus_carrier\", \"country\", \"bus\", \"carrier\", \"name\"])\n",
        "    .div(1e6)  # TWh\n",
        "    .to_frame(name=\"Balance [TWh]\")\n",
        "    .query(\n",
        "        \"(bus_carrier.str.contains('Hydrogen')) \"\n",
        "        \"and (country == 'DE') \"\n",
        "        \" and (abs(`Balance [TWh]`) > 1e-2)\"\n",
        "    )\n",
        "    .round(2)\n",
        ")\n",
        "df"
      ]
    },
    {
      "cell_type": "code",
      "execution_count": null,
      "metadata": {
        "id": "SSWLzIBR8KBv"
      },
      "outputs": [],
      "source": [
        "# verify energy balance\n",
        "df.groupby(by=\"bus\").sum()"
      ]
    },
    {
      "cell_type": "code",
      "execution_count": null,
      "metadata": {
        "id": "pL8Vs70q8KBv"
      },
      "outputs": [],
      "source": [
        "exports = df.query(\"name.str.contains('DE ->')\")\n",
        "export_twh = exports[\"Balance [TWh]\"].sum().round(2)\n",
        "print(f\"DE exports {export_twh} TWh of H2.\")\n",
        "\n",
        "imports = df.query(\n",
        "    \"(name.str.contains('-> DE')) and not (name.str.contains('Z1')) and not (name.str.contains('Z2'))\"\n",
        ")\n",
        "import_twh = imports[\"Balance [TWh]\"].sum().round(2)\n",
        "print(f\"DE imports {import_twh} TWh of H2.\")\n",
        "\n",
        "balance_twh = import_twh + export_twh\n",
        "print(\n",
        "    f\"DE is a net {'importer' if balance_twh > 0 else 'exporter'} ({balance_twh.round(2)} TWh).\"\n",
        ")"
      ]
    },
    {
      "cell_type": "markdown",
      "metadata": {
        "id": "Hn2cXCb78KBv"
      },
      "source": [
        "... or look at renewable curtailment in the system:"
      ]
    },
    {
      "cell_type": "code",
      "execution_count": null,
      "metadata": {
        "id": "bb2HDbtc8KBv"
      },
      "outputs": [],
      "source": [
        "(\n",
        "    s.curtailment(\n",
        "        bus_carrier=[\"AC\", \"low voltage\"],\n",
        "        groupby=[\"location\", \"carrier\"],\n",
        "    )\n",
        "    .div(1e6)  # TWh\n",
        "    .to_frame(name=\"p_nom_opt\")\n",
        "    .pivot_table(index=\"location\", columns=\"carrier\", values=\"p_nom_opt\")\n",
        "    .fillna(0)\n",
        "    .assign(Total=lambda df: df.sum(axis=1))\n",
        "    .sort_values(by=\"Total\", ascending=False)\n",
        "    .round(2)\n",
        ").head()"
      ]
    },
    {
      "cell_type": "markdown",
      "metadata": {
        "id": "F2zKMLtg8KBv"
      },
      "source": [
        "---\n",
        "📈 `pypsa.plot`\n",
        "\n",
        "PyPSA also includes a built-in `pypsa.plot` module that provides a small set of standard plotting functions. These are useful for quickly visualizing key aspects of your network, such as:\n",
        "\n",
        "- Network topology (buses, lines, generators)\n",
        "- Line loading and power flows\n",
        "- Generation dispatch over time\n",
        "- Installed capacities and time-series data\n",
        "\n",
        "These plots are useful for exploratory analysis and debugging and can be customized using `matplotlib`.\n",
        "\n",
        "For more advanced or interactive visualizations, you may consider combining PyPSA outputs with external libraries such as `plotly`, `holoviews`, or `hvplot`.\n"
      ]
    },
    {
      "cell_type": "code",
      "execution_count": null,
      "metadata": {
        "id": "FgcYE7Hp8KBv"
      },
      "outputs": [],
      "source": [
        "# let's fill missing colors first\n",
        "pd.options.plotting.backend = \"matplotlib\"\n",
        "post_network.carriers.loc[\"none\", \"color\"] =\"#000000\"\n",
        "post_network.carriers.loc[\"\", \"color\"] = \"#000000\""
      ]
    },
    {
      "cell_type": "markdown",
      "metadata": {
        "id": "5UksO3NI8KBv"
      },
      "source": [
        "Let's now plot the optimal renewable capacities that we investigated before."
      ]
    },
    {
      "cell_type": "code",
      "execution_count": null,
      "metadata": {
        "id": "cmHTaeOU8KBv"
      },
      "outputs": [],
      "source": [
        "s.optimal_capacity.plot.bar(\n",
        "    bus_carrier=\"AC\",\n",
        "    query=\"value>1e3\",\n",
        "    height=6,\n",
        ");"
      ]
    },
    {
      "cell_type": "markdown",
      "metadata": {
        "id": "ySCkm_zv8KBv"
      },
      "source": [
        "You can also have details for specific countries."
      ]
    },
    {
      "cell_type": "code",
      "execution_count": null,
      "metadata": {
        "id": "2oXEyGBx8KBv"
      },
      "outputs": [],
      "source": [
        "s.optimal_capacity.plot.bar(\n",
        "    bus_carrier=\"AC\",\n",
        "    query=\"value>1e3 and country in ['DE', 'FR']\",\n",
        "    height=6,\n",
        "    facet_col=\"country\",\n",
        ");"
      ]
    },
    {
      "cell_type": "markdown",
      "metadata": {
        "id": "SyYqeOx18KBv"
      },
      "source": [
        "You can have a closer look to the wind production"
      ]
    },
    {
      "cell_type": "code",
      "execution_count": null,
      "metadata": {
        "id": "uz5uabY18KBv"
      },
      "outputs": [],
      "source": [
        "s.energy_balance.plot.line(\n",
        "    facet_row=\"bus_carrier\",\n",
        "    y=\"value\",\n",
        "    x=\"snapshot\",\n",
        "    carrier=\"wind\",\n",
        "    nice_names=False,\n",
        "    color=\"carrier\",\n",
        "    aspect=5.0,\n",
        ");"
      ]
    },
    {
      "cell_type": "markdown",
      "metadata": {
        "id": "HwClL04U8KBv"
      },
      "source": [
        "... or to the dispatch for specific countries."
      ]
    },
    {
      "cell_type": "code",
      "execution_count": null,
      "metadata": {
        "id": "MKvPBIhm8KBv"
      },
      "outputs": [],
      "source": [
        "s.energy_balance.plot.area(\n",
        "    bus_carrier=[\"AC\"],\n",
        "    y=\"value\",\n",
        "    x=\"snapshot\",\n",
        "    color=\"carrier\",\n",
        "    stacked=True,\n",
        "    facet_row=\"country\",\n",
        "    query=\"country in ['DE', 'FR'] and snapshot < '2013-03'\",\n",
        "    aspect=5,\n",
        ");"
      ]
    },
    {
      "cell_type": "markdown",
      "metadata": {
        "id": "atzj3Krk8KBv"
      },
      "source": [
        "You can also explore H2 results."
      ]
    },
    {
      "cell_type": "code",
      "execution_count": null,
      "metadata": {
        "id": "abBqovn38KBw"
      },
      "outputs": [],
      "source": [
        "s.energy_balance.plot.bar(\n",
        "    bus_carrier=[\"H2\"],\n",
        "    y=\"carrier\",\n",
        "    x=\"value\",\n",
        "    color=\"carrier\",\n",
        "    facet_col=\"country\",\n",
        "    height=4,\n",
        "    aspect=1,\n",
        "    query=\"country in ['DE', 'FR']\",\n",
        ");"
      ]
    },
    {
      "cell_type": "markdown",
      "metadata": {
        "id": "UStEQAMY8KBw"
      },
      "source": [
        "You can also explore the correlation between renewable production and hydrogen."
      ]
    },
    {
      "cell_type": "code",
      "execution_count": null,
      "metadata": {
        "id": "SO7kw81j8KBw"
      },
      "outputs": [],
      "source": [
        "s.energy_balance.plot.area(\n",
        "    bus_carrier=[\"AC\", \"H2\"],\n",
        "    y=\"value\",\n",
        "    x=\"snapshot\",\n",
        "    color=\"carrier\",\n",
        "    stacked=True,\n",
        "    facet_row=\"bus_carrier\",\n",
        "    sharex=False,\n",
        "    sharey=False,\n",
        "    query=\"snapshot < '2013-03'\",\n",
        "    aspect=5,\n",
        ");"
      ]
    },
    {
      "cell_type": "markdown",
      "metadata": {
        "id": "pn6_3bzi8KBw"
      },
      "source": [
        "---"
      ]
    }
  ],
  "metadata": {
    "colab": {
      "provenance": []
    },
    "kernelspec": {
      "display_name": "pypsa-edl-env",
      "language": "python",
      "name": "python3"
    },
    "language_info": {
      "codemirror_mode": {
        "name": "ipython",
        "version": 3
      },
      "file_extension": ".py",
      "mimetype": "text/x-python",
      "name": "python",
      "nbconvert_exporter": "python",
      "pygments_lexer": "ipython3",
      "version": "3.13.3"
    }
  },
  "nbformat": 4,
  "nbformat_minor": 0
}
