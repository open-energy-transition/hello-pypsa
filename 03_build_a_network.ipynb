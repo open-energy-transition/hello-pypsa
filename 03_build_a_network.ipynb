{
  "cells": [
    {
      "cell_type": "markdown",
      "metadata": {
        "id": "ZwmeUryz8KBn"
      },
      "source": [
        "## 🚀 Getting started with your own PyPSA Model  "
      ]
    },
    {
      "cell_type": "markdown",
      "metadata": {},
      "source": [
        "### 🎯 Objective\n",
        "\n",
        "By the end of this session, you will be able to:\n",
        "\n",
        "- Understand how PyPSA v0.34+ supports importing models from Excel files using component-named sheets.\n",
        "- Use Excel as a simple and accessible entry point for building PyPSA models.\n",
        "- Explore and adapt two resources provided in this repository:\n",
        "  - A blank Excel template to begin building your own model.\n",
        "  - A worked example of a simplified South African power system using 9 nodes and interconnecting links.\n",
        "\n",
        "Additionally, you'll gain awareness of best practices for scaling up to more complex models using reproducible workflows.\n",
        "\n"
      ]
    },
    {
      "cell_type": "markdown",
      "metadata": {},
      "source": [
        "### ✍️ Authors\n",
        "<div style=\"display: flex; align-items: center; justify-content: space-between; flex-wrap: nowrap; gap: 2rem;\">\n",
        "\n",
        "  <div style=\"flex: 1; min-width: 250px;\">\n",
        "      <a href=\"https://www.linkedin.com/in/virio-andreyana\" target=\"_blank\">Virio Andreyana</a><br>\n",
        "      <a href=\"https://www.linkedin.com/in/andreas-denyer\" target=\"_blank\">Andreas Denyer</a><br>\n",
        "      <a href=\"https://www.linkedin.com/in/priyeshgosai\" target=\"_blank\">Priyesh Gosai</a>\n",
        "    </p>\n",
        "  </div>\n",
        "\n",
        "  <div style=\"flex-shrink: 0;\">\n",
        "    <a href=\"https://openenergytransition.org/index.html\" target=\"_blank\">\n",
        "      <img src=\"https://openenergytransition.org/assets/img/oet-logo-red-n-subtitle.png\" height=\"60\" alt=\"Open Energy Transition logo\">\n",
        "    </a>\n",
        "  </div>\n",
        "\n",
        "</div>\n"
      ]
    },
    {
      "cell_type": "markdown",
      "metadata": {
        "id": "jmb-sF978KBo"
      },
      "source": [
        "### ⚙️ Setup Environment"
      ]
    },
    {
      "cell_type": "markdown",
      "metadata": {
        "id": "feA8zEwc8KBo"
      },
      "source": [
        "**💻 Running in Google Colab**\n",
        "\n",
        "This notebook is designed to run in **Google Colab**, which provides access to a cloud-based virtual machine. While this is convenient and requires no local setup, it's important to note that **Colab sessions are temporary** — all files and installations are **lost when the session ends**.\n",
        "\n",
        "To ensure your work is preserved:\n",
        "\n",
        "- The notebook is set up to **link with your Google Drive**. This allows you to save input files, results, and any model modifications to your own Drive for later use.\n",
        "\n",
        "- The notebook is also linked to a **GitHub repository**. You can choose whether or not to **pull the latest version of the repository** each time you run the notebook using the boolean options provided below.\n",
        "\n",
        "  - If enabled, the notebook will:\n",
        "    - Pull the latest version of the repository into your Drive.\n",
        "    - Create a backup folder containing your existing work, timestamped for traceability.\n",
        "    - To avoid cluttering your Google Drive, remember to delete old backups or set the `backup_old_repo = False` option.\n",
        "\n",
        "Another consideration when using Colab is that **PyPSA and several required packages are not pre-installed** in the Colab environment. These packages must be installed manually each time you connect to a new VM.\n",
        "\n",
        "For both the GitHub sync and the package installation process, we’ve provided boolean flags that let you **skip these steps** if desired. This gives you more control over the setup process, especially when restarting work or debugging.\n",
        "\n"
      ]
    },
    {
      "cell_type": "markdown",
      "metadata": {
        "id": "LUh0PTTS8KBp"
      },
      "source": [
        "**Setup Environment**\n",
        "1. Provide the path to the repository for this project.\n",
        "2. Confirm if this is the first run in the Google Colab environment.\n",
        "3. Confirm if you want to update the repository with the latest changes."
      ]
    },
    {
      "cell_type": "code",
      "execution_count": null,
      "metadata": {
        "id": "p3dqzz2O8KBp"
      },
      "outputs": [],
      "source": [
        "repo_path  = f'https://github.com/open-energy-transition/EIS-2025'\n",
        "first_run = True # Set to True if this is the first run of the in the Google Colab environment\n",
        "update_repo = True # Set to True if you want to update the repository with the latest changes"
      ]
    },
    {
      "cell_type": "code",
      "execution_count": null,
      "metadata": {
        "cellView": "form",
        "id": "nsIYMV-s8KBp"
      },
      "outputs": [],
      "source": [
        "# @title Connect this Notebook to your Google Drive\n",
        "# @markdown Run this cell to link this notebook to the GitHub repository. <br>\n",
        "# @markdown If the repository already exists, it will back up any modified files and force pull the latest changes.\n",
        "from google.colab import drive\n",
        "import os\n",
        "import subprocess\n",
        "import shutil\n",
        "from datetime import datetime\n",
        "import urllib.request\n",
        "\n",
        "# Mount Google Drive\n",
        "drive.mount('/content/drive')\n",
        "\n",
        "# Base directory\n",
        "base_dir = '/content/drive/MyDrive/'\n",
        "os.chdir(base_dir)\n",
        "\n",
        "FOLDER = os.path.basename(repo_path)\n",
        "\n",
        "\n",
        "if update_repo:\n",
        "\n",
        "\n",
        "    # Get timestamp\n",
        "    timestamp = datetime.now().strftime(\"%Y%m%d_%H%M\")\n",
        "    backup_folder = f'Backup_{timestamp}'\n",
        "    backup_path = os.path.join(base_dir, backup_folder)\n",
        "\n",
        "    # If repo exists, back up and force pull\n",
        "    if os.path.exists(repo_path):\n",
        "        os.chdir(repo_path)\n",
        "\n",
        "        # Get list of modified and untracked files\n",
        "        result = subprocess.run(['git', 'status', '--porcelain'], stdout=subprocess.PIPE, text=True)\n",
        "        changed_files = [line[3:] for line in result.stdout.splitlines() if line and line[0] in ('M', 'A', '??')]\n",
        "\n",
        "        if changed_files:\n",
        "            os.makedirs(backup_path, exist_ok=True)\n",
        "            print(f\"Backing up {len(changed_files)} changed files to {backup_folder}...\")\n",
        "            for file in changed_files:\n",
        "                src = os.path.join(repo_path, file)\n",
        "                dst = os.path.join(backup_path, file)\n",
        "                os.makedirs(os.path.dirname(dst), exist_ok=True)\n",
        "                if os.path.exists(src):\n",
        "                    shutil.copy2(src, dst)\n",
        "\n",
        "        # Force pull: reset local repo to match remote\n",
        "        subprocess.run(['git', 'fetch', 'origin'])\n",
        "        subprocess.run(['git', 'reset', '--hard', 'origin/main'])\n",
        "\n",
        "    else:\n",
        "        os.chdir(base_dir)\n",
        "        subprocess.run(['git', 'clone', repo_path])\n",
        "\n",
        "\n",
        "    files = {\n",
        "        \"network_blank.xlsx\": \"17haq369Y7-5JFRjESfDbUUljVyIEUS4u\",  # file ID\n",
        "        \"network_south_africa.xlsx\": \"1hBqZjotxDuZOQb-kkC0JePbc3gxCGcwq\",  # file ID\n",
        "    }\n",
        "\n",
        "    for name, file_id in files.items():\n",
        "        print(f\"Retrieving {name} from Google Drive\")\n",
        "        url = f\"https://docs.google.com/uc?export=download&id={file_id}\"\n",
        "        urllib.request.urlretrieve(url, name)\n",
        "\n",
        "    print(\"Current working directory:\", os.getcwd())"
      ]
    },
    {
      "cell_type": "code",
      "execution_count": null,
      "metadata": {
        "cellView": "form",
        "id": "shr7zh9U8KBp"
      },
      "outputs": [],
      "source": [
        "# @title Install the required packages\n",
        "# @markdown Run this cell to install the necessary Python packages for the project.\n",
        "import subprocess, sys, importlib\n",
        "\n",
        "try:\n",
        "    from importlib import metadata  # Python 3.8+\n",
        "except ImportError:\n",
        "    import importlib_metadata as metadata  # Backport for older versions\n",
        "\n",
        "packages = [\n",
        "    \"pypsa\",        # power-system modelling & optimization toolbox\n",
        "    \"pypsa[excel]\", # pypsa with Excel I/O support\n",
        "    \"folium\",       # interactive leaflet-based maps in Python\n",
        "    \"mapclassify\"   # spatial data classification for choropleth maps\n",
        "]\n",
        "\n",
        "# Install packages\n",
        "subprocess.run(\n",
        "    [sys.executable, \"-m\", \"pip\", \"install\", \"-q\", *packages],\n",
        "    check=True\n",
        ")\n",
        "\n",
        "# Check and report installed versions\n",
        "base_names = [pkg.split(\"[\")[0] for pkg in packages]\n",
        "missing = [p for p in base_names if importlib.util.find_spec(p) is None]\n",
        "\n",
        "if not missing:\n",
        "    print(\"✅ All packages installed successfully.\\n\")\n",
        "    for pkg in base_names:\n",
        "        try:\n",
        "            version = metadata.version(pkg)\n",
        "            print(f\"📦 {pkg} version {version}\")\n",
        "        except metadata.PackageNotFoundError:\n",
        "            print(f\"⚠️ {pkg} is not found in metadata.\")\n",
        "else:\n",
        "    print(f\"❌ Missing: {', '.join(missing)}\")\n"
      ]
    },
    {
      "cell_type": "markdown",
      "metadata": {
        "id": "fqBx2AZR8KBw"
      },
      "source": [
        "To import the excel file\n",
        "\n",
        "\n",
        "```python\n",
        "network_name = pypsa.Network('network_name.xlsx')\n",
        "\n",
        "```"
      ]
    },
    {
      "cell_type": "code",
      "execution_count": null,
      "metadata": {
        "id": "2VJTFp7G8KBw"
      },
      "outputs": [],
      "source": []
    },
    {
      "cell_type": "code",
      "execution_count": null,
      "metadata": {
        "id": "xx-bN0x08KBw"
      },
      "outputs": [],
      "source": []
    },
    {
      "cell_type": "code",
      "execution_count": null,
      "metadata": {
        "id": "sV4G9yKp8KBw"
      },
      "outputs": [],
      "source": []
    },
    {
      "cell_type": "code",
      "execution_count": null,
      "metadata": {
        "id": "LRrK5YPz8KBw"
      },
      "outputs": [],
      "source": []
    },
    {
      "cell_type": "markdown",
      "metadata": {
        "id": "hWN5dDS08KBw"
      },
      "source": [
        "Explore the South African Example"
      ]
    },
    {
      "cell_type": "code",
      "execution_count": null,
      "metadata": {
        "id": "I957Jxf68KBw"
      },
      "outputs": [],
      "source": [
        "import pypsa"
      ]
    },
    {
      "cell_type": "code",
      "execution_count": null,
      "metadata": {
        "id": "HO3OEed_8KBw"
      },
      "outputs": [],
      "source": [
        "network_za = pypsa.Network('network_south_africa.xlsx')"
      ]
    },
    {
      "cell_type": "code",
      "execution_count": null,
      "metadata": {
        "id": "KmA45LsJ8KBw"
      },
      "outputs": [],
      "source": [
        "network_za.loads"
      ]
    },
    {
      "cell_type": "code",
      "execution_count": null,
      "metadata": {
        "id": "KSYuEdjW8KBw"
      },
      "outputs": [],
      "source": [
        "network_za.buses # and similarly for other components"
      ]
    },
    {
      "cell_type": "code",
      "execution_count": null,
      "metadata": {
        "id": "99VeGnFT8KBw"
      },
      "outputs": [],
      "source": [
        "network_za.optimize() # This will run the optimization on the network"
      ]
    },
    {
      "cell_type": "code",
      "execution_count": null,
      "metadata": {
        "id": "YChvtLLG8KBw"
      },
      "outputs": [],
      "source": [
        "\n",
        "network_za.export_to_excel('network_export.xlsx') # Export the network to an Excel file\n"
      ]
    },
    {
      "cell_type": "markdown",
      "metadata": {
        "id": "pn6_3bzi8KBw"
      },
      "source": [
        "---"
      ]
    }
  ],
  "metadata": {
    "colab": {
      "provenance": []
    },
    "kernelspec": {
      "display_name": "pypsa-edl-env",
      "language": "python",
      "name": "python3"
    },
    "language_info": {
      "codemirror_mode": {
        "name": "ipython",
        "version": 3
      },
      "file_extension": ".py",
      "mimetype": "text/x-python",
      "name": "python",
      "nbconvert_exporter": "python",
      "pygments_lexer": "ipython3",
      "version": "3.13.3"
    }
  },
  "nbformat": 4,
  "nbformat_minor": 0
}
