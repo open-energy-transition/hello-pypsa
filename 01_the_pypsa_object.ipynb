{
  "cells": [
    {
      "cell_type": "markdown",
      "metadata": {
        "id": "ZwmeUryz8KBn"
      },
      "source": [
        "## PyPSA Introduction Notebook"
      ]
    },
    {
      "cell_type": "markdown",
      "metadata": {},
      "source": [
        "### 🎯 Objective\n",
        "\n",
        "This notebook provides a detailed introduction to the `pypsa.Network()` object. It covers:\n",
        "\n",
        "- The components that make up PyPSA’s graph-based network model.\n",
        "- Key features for exploring and inspecting the network.\n",
        "- Methods for updating components and applying changes.  \n",
        "- Tools for viewing constraints and solving the optimization problem.  \n"
      ]
    },
    {
      "cell_type": "markdown",
      "metadata": {},
      "source": [
        "### ✍️ Authors\n",
        "<div style=\"display: flex; align-items: center; justify-content: space-between; flex-wrap: nowrap; gap: 2rem;\">\n",
        "\n",
        "  <div style=\"flex: 1; min-width: 250px;\">\n",
        "      <a href=\"https://www.linkedin.com/in/virio-andreyana\" target=\"_blank\">Virio Andreyana</a><br>\n",
        "      <a href=\"https://www.linkedin.com/in/andreas-denyer\" target=\"_blank\">Andreas Denyer</a><br>\n",
        "      <a href=\"https://www.linkedin.com/in/priyeshgosai\" target=\"_blank\">Priyesh Gosai</a>\n",
        "    </p>\n",
        "  </div>\n",
        "\n",
        "  <div style=\"flex-shrink: 0;\">\n",
        "    <a href=\"https://openenergytransition.org/index.html\" target=\"_blank\">\n",
        "      <img src=\"https://openenergytransition.org/assets/img/oet-logo-red-n-subtitle.png\" height=\"60\" alt=\"Open Energy Transition logo\">\n",
        "    </a>\n",
        "  </div>\n",
        "\n",
        "</div>\n"
      ]
    },
    {
      "cell_type": "markdown",
      "metadata": {
        "id": "jmb-sF978KBo"
      },
      "source": [
        "### ⚙️ Setup Environment"
      ]
    },
    {
      "cell_type": "code",
      "execution_count": null,
      "metadata": {
        "cellView": "form",
        "id": "shr7zh9U8KBp"
      },
      "outputs": [],
      "source": [
        "# @title Install the required packages\n",
        "# @markdown Run this cell to install the necessary Python packages for the project.\n",
        "import subprocess, sys, importlib\n",
        "\n",
        "try:\n",
        "    from importlib import metadata  # Python 3.8+\n",
        "except ImportError:\n",
        "    import importlib_metadata as metadata  # Backport for older versions\n",
        "\n",
        "packages = [\n",
        "    \"pypsa\",        # power-system modelling & optimization toolbox\n",
        "    \"pypsa[excel]\", # pypsa with Excel I/O support\n",
        "    \"folium\",       # interactive leaflet-based maps in Python\n",
        "    \"mapclassify\"   # spatial data classification for choropleth maps\n",
        "]\n",
        "\n",
        "# Install packages\n",
        "subprocess.run(\n",
        "    [sys.executable, \"-m\", \"pip\", \"install\", \"-q\", *packages],\n",
        "    check=True\n",
        ")\n",
        "\n",
        "# Check and report installed versions\n",
        "base_names = [pkg.split(\"[\")[0] for pkg in packages]\n",
        "missing = [p for p in base_names if importlib.util.find_spec(p) is None]\n",
        "\n",
        "if not missing:\n",
        "    print(\"✅ All packages installed successfully.\\n\")\n",
        "    for pkg in base_names:\n",
        "        try:\n",
        "            version = metadata.version(pkg)\n",
        "            print(f\"📦 {pkg} version {version}\")\n",
        "        except metadata.PackageNotFoundError:\n",
        "            print(f\"⚠️ {pkg} is not found in metadata.\")\n",
        "else:\n",
        "    print(f\"❌ Missing: {', '.join(missing)}\")\n",
        "\n"
      ]
    },
    {
      "cell_type": "markdown",
      "metadata": {
        "id": "7i0ZTe1d8KBp"
      },
      "source": [
        "### 🧭 Navigating the PyPSA Object"
      ]
    },
    {
      "cell_type": "markdown",
      "metadata": {
        "id": "pjc-OgNg8KBp"
      },
      "source": [
        "**Initialize the PyPSA Network** <br>\n",
        "This cell:\n",
        "* imports the necessary libraries\n",
        "* changes the plotting tool from the default `matplotlib` to the interactive `plotly` library. \n",
        "* initializes a PyPSA network  using the meshed AC/DC example.\n",
        "\n",
        "```python\n",
        "import <package>\n",
        "```\n",
        "\n",
        "or in the case you want to make an shorthand for a package \n",
        "\n",
        "```python\n",
        "import <package> as <shorthand>\n",
        "```"
      ]
    },
    {
      "cell_type": "code",
      "execution_count": null,
      "metadata": {
        "id": "9QBOC7NR8KBp"
      },
      "outputs": [],
      "source": [
        "import pypsa\n",
        "import pandas as pd\n",
        "pd.options.plotting.backend = \"plotly\"\n",
        "network = pypsa.examples.ac_dc_meshed()"
      ]
    },
    {
      "cell_type": "markdown",
      "metadata": {
        "id": "VWXwOe8v8KBq"
      },
      "source": [
        "To create a blank PyPSA `Network`, use:\n",
        "\n",
        "```python\n",
        "network = pypsa.Network()\n",
        "```\n",
        "\n",
        "To import an existing network from a supported file format (e.g. HDF5, NetCDF, CSV folder, or Excel), pass the file path:\n",
        "\n",
        "```python\n",
        "network = pypsa.Network(\"filename.xx\")\n",
        "```\n"
      ]
    },
    {
      "cell_type": "markdown",
      "metadata": {
        "id": "1T4TLqGM8KBq"
      },
      "source": [
        "Display Network Components"
      ]
    },
    {
      "cell_type": "code",
      "execution_count": null,
      "metadata": {
        "id": "vgjIgY_x8KBq"
      },
      "outputs": [],
      "source": [
        "network.components"
      ]
    },
    {
      "cell_type": "markdown",
      "metadata": {},
      "source": [
        "We use a `for` loop to illustrate PyPSA's naming conventions: \n",
        "* `PascalCase` is used for component classes. \n",
        "* `snake_case` is used for attributes and methods."
      ]
    },
    {
      "cell_type": "code",
      "execution_count": null,
      "metadata": {
        "cellView": "form",
        "id": "Yw2Enku98KBq"
      },
      "outputs": [],
      "source": [
        "for key in network.component_attrs:\n",
        "    print(f'{key.ljust(20)} {network.components[key][\"list_name\"]}')"
      ]
    },
    {
      "cell_type": "markdown",
      "metadata": {
        "id": "vlwnVesM8KBq"
      },
      "source": [
        "**Component Attributes**\n",
        "\n",
        "\n",
        "Change the `ComponentName` using PascalCase as a string to view the attributes. \n"
      ]
    },
    {
      "cell_type": "code",
      "execution_count": null,
      "metadata": {
        "id": "hvHo4HJ58KBq"
      },
      "outputs": [],
      "source": [
        "ComponentName = 'Generator' # or use 'Bus''Link','Line','Carrier' for other components.\n",
        "\n",
        "network.component_attrs[ComponentName]"
      ]
    },
    {
      "cell_type": "markdown",
      "metadata": {},
      "source": [
        "**Methods in the Network Object**\n",
        "\n",
        "We use a for loop to display all available methods in the pypsa.Network object. \n",
        "\n",
        "These methods allow you to interact with and modify the network.\n",
        "\n",
        "_For better readability, the output is arranged in a grid format._"
      ]
    },
    {
      "cell_type": "code",
      "execution_count": null,
      "metadata": {
        "cellView": "form",
        "id": "ztxZeFGj8KBq"
      },
      "outputs": [],
      "source": [
        "import inspect\n",
        "\n",
        "methods = sorted(\n",
        "    name for name, func in inspect.getmembers(network, inspect.ismethod)\n",
        "    if not name.startswith(\"_\")\n",
        ")\n",
        "\n",
        "n_cols = 3\n",
        "n_rows = (len(methods) + n_cols - 1) // n_cols\n",
        "col_width = max(len(m) for m in methods) + 2\n",
        "\n",
        "for row_idx in range(n_rows):\n",
        "    for col_idx in range(n_cols):\n",
        "        idx = col_idx * n_rows + row_idx\n",
        "        if idx < len(methods):\n",
        "            print(methods[idx].ljust(col_width), end=\"\")\n",
        "    print()"
      ]
    },
    {
      "cell_type": "markdown",
      "metadata": {},
      "source": [
        "ℹ️ **Where to Learn More**  \n",
        "\n",
        "There's a lot of information in this notebook, and users are encouraged to explore the [PyPSA documentation](https://pypsa.readthedocs.io/).  \n",
        "It offers comprehensive details on components, methods, API usage, and the latest release notes.\n",
        "\n"
      ]
    },
    {
      "cell_type": "markdown",
      "metadata": {
        "id": "v072JnZ48KBq"
      },
      "source": [
        "**View the Signature, Docstring, and Source Location**\n",
        "\n",
        "PyPSA follows well-established coding standards, making it easy to explore and understand the codebase.  \n",
        "To inspect a method’s signature, documentation string, and source location, use:\n",
        "\n",
        "```python\n",
        "network.<method>?\n",
        "```\n",
        "\n",
        "This will display helpful information in the output block, including the method's arguments and a short description of its functionality."
      ]
    },
    {
      "cell_type": "code",
      "execution_count": null,
      "metadata": {
        "id": "B2u5GgLA8KBq"
      },
      "outputs": [],
      "source": [
        "network.add?"
      ]
    },
    {
      "cell_type": "markdown",
      "metadata": {
        "id": "MOB-Qfj-8KBq"
      },
      "source": [
        "**Explore the Network**\n",
        "\n",
        "This cell provides an interactive map of the network using the `explore` method using Folium.\n"
      ]
    },
    {
      "cell_type": "code",
      "execution_count": null,
      "metadata": {
        "id": "Ya5jwjob8KBq"
      },
      "outputs": [],
      "source": [
        "network.plot.explore()"
      ]
    },
    {
      "cell_type": "markdown",
      "metadata": {},
      "source": [
        "**View Input Data**\n",
        "\n",
        "To view input data in PyPSA, you can access the corresponding component using its **snake_case** name directly on the `network` object.\n",
        "\n"
      ]
    },
    {
      "cell_type": "code",
      "execution_count": null,
      "metadata": {},
      "outputs": [],
      "source": [
        "network.buses"
      ]
    },
    {
      "cell_type": "code",
      "execution_count": null,
      "metadata": {},
      "outputs": [],
      "source": [
        "network.lines"
      ]
    },
    {
      "cell_type": "code",
      "execution_count": null,
      "metadata": {},
      "outputs": [],
      "source": [
        "network.links"
      ]
    },
    {
      "cell_type": "code",
      "execution_count": null,
      "metadata": {},
      "outputs": [],
      "source": [
        "network.loads"
      ]
    },
    {
      "cell_type": "code",
      "execution_count": null,
      "metadata": {},
      "outputs": [],
      "source": [
        "network.generators"
      ]
    },
    {
      "cell_type": "markdown",
      "metadata": {},
      "source": [
        "**Static vs Time-Varying Data**\n",
        "\n",
        "PyPSA distinguishes between:\n",
        "\n",
        "- **Static input data**, which does not change over time (e.g. `network.generators`, `network.loads`)\n",
        "- **Time-varying data**, which changes across snapshots and is accessed via the `_t` suffix\n",
        "\n",
        "The time dimension is defined by the `network.snapshots` attribute, which specifies the set of timestamps over which the model is solved."
      ]
    },
    {
      "cell_type": "code",
      "execution_count": null,
      "metadata": {},
      "outputs": [],
      "source": [
        "network.snapshots"
      ]
    },
    {
      "cell_type": "code",
      "execution_count": null,
      "metadata": {},
      "outputs": [],
      "source": [
        "network.loads_t.p_set"
      ]
    },
    {
      "cell_type": "code",
      "execution_count": null,
      "metadata": {},
      "outputs": [],
      "source": [
        "network.generators_t.p_max_pu"
      ]
    },
    {
      "cell_type": "markdown",
      "metadata": {},
      "source": [
        "**Constraints in PyPSA**\n",
        "\n",
        "Within PyPSA, all system data is formulated into mathematical constraints that define the optimization problem. These constraints are built using the `linopy` toolbox, which is also developed and maintained by the PyPSA team.\n",
        "\n",
        "This design allows you to **construct and inspect the optimization model without actually solving it**.  \n",
        "In other words, you can prepare and review the constraints independently before running the full optimization.\n",
        "\n",
        "This is especially useful for debugging, understanding the model structure, or applying custom modifications.\n",
        "\n",
        ">_**Adding Custom Constraints**_\n",
        "\n",
        ">_In many applications, there may be constraints that are not generated by default in the PyPSA network.  \n",
        "In these cases, you can **add custom constraints** to the model before solving the optimization problem._\n",
        "\n",
        ">_An example of how to do this is available in the [PyPSA documentation](https://pypsa.readthedocs.io/en/latest/advanced_linear_constraints.html)._\n",
        "\n"
      ]
    },
    {
      "cell_type": "code",
      "execution_count": null,
      "metadata": {
        "id": "Sw3HNag28KBq"
      },
      "outputs": [],
      "source": [
        "network.optimize.create_model()"
      ]
    },
    {
      "cell_type": "markdown",
      "metadata": {
        "id": "Xbid6vVp8KBq"
      },
      "source": [
        "We can view the constraints."
      ]
    },
    {
      "cell_type": "code",
      "execution_count": null,
      "metadata": {
        "id": "ZT58Zl-28KBq"
      },
      "outputs": [],
      "source": [
        "network.model"
      ]
    },
    {
      "cell_type": "markdown",
      "metadata": {
        "id": "oF5Bp5Gs8KBq"
      },
      "source": [
        "**Optimize the Network**\n",
        "\n",
        "This cell runs the optimization on the network. The default solver is HiGHS, which is a high-performance open-source solver for linear programming problems.\n",
        "\n",
        "You can change the solver by modifying the `solver_name` parameter in the `network.optimize()` method."
      ]
    },
    {
      "cell_type": "markdown",
      "metadata": {
        "id": "hs0WS6df8KBq"
      },
      "source": [
        "Additional advanced features in PyPSA may be of interest to some users, including support for [custom constraints](https://pypsa.readthedocs.io/en/latest/user-guide/optimal-power-flow.html#custom-constraints), [rolling horizon optimization](https://pypsa.readthedocs.io/en/latest/user-guide/optimal-power-flow.html#rolling-horizon-optimization), and several other modeling options.\n",
        "\n",
        "For a full overview, visit the [System Optimization](https://pypsa.readthedocs.io/en/latest/user-guide/optimal-power-flow.html#) section of the PyPSA documentation.\n"
      ]
    },
    {
      "cell_type": "code",
      "execution_count": null,
      "metadata": {
        "id": "klVusfuV8KBq"
      },
      "outputs": [],
      "source": [
        "network.optimize()"
      ]
    },
    {
      "cell_type": "markdown",
      "metadata": {},
      "source": [
        "**Observe the Results**\n",
        "\n",
        "Just as with input data, PyPSA provides access to both **static** and **time-varying** results after solving the model.\n",
        "\n",
        "- **Static results** (e.g. capacities, marginal costs) are stored in attributes like `network.generators`.\n",
        "- **Time-varying results** (e.g. dispatch, flows, state of charge) are stored using the `_t` suffix:\n"
      ]
    },
    {
      "cell_type": "code",
      "execution_count": null,
      "metadata": {},
      "outputs": [],
      "source": [
        "network.objective"
      ]
    },
    {
      "cell_type": "code",
      "execution_count": null,
      "metadata": {},
      "outputs": [],
      "source": [
        "network.generators_t.p       # Generator dispatch over time"
      ]
    },
    {
      "cell_type": "code",
      "execution_count": null,
      "metadata": {},
      "outputs": [],
      "source": [
        "network.storage_units_t.p    # Storage power over time\n"
      ]
    },
    {
      "cell_type": "code",
      "execution_count": null,
      "metadata": {},
      "outputs": [],
      "source": [
        "network.links_t.p0           # Link flows at the sending end"
      ]
    },
    {
      "cell_type": "code",
      "execution_count": null,
      "metadata": {},
      "outputs": [],
      "source": []
    },
    {
      "cell_type": "code",
      "execution_count": null,
      "metadata": {},
      "outputs": [],
      "source": []
    },
    {
      "cell_type": "code",
      "execution_count": null,
      "metadata": {},
      "outputs": [],
      "source": []
    },
    {
      "cell_type": "code",
      "execution_count": null,
      "metadata": {},
      "outputs": [],
      "source": []
    },
    {
      "cell_type": "code",
      "execution_count": null,
      "metadata": {},
      "outputs": [],
      "source": []
    },
    {
      "cell_type": "markdown",
      "metadata": {
        "id": "APuQb6zo8KBq"
      },
      "source": [
        "In the next section we look at the inputs and outputs for this network.\n",
        "\n",
        "---"
      ]
    }
  ],
  "metadata": {
    "colab": {
      "provenance": []
    },
    "kernelspec": {
      "display_name": "pypsa-edl-env",
      "language": "python",
      "name": "python3"
    },
    "language_info": {
      "codemirror_mode": {
        "name": "ipython",
        "version": 3
      },
      "file_extension": ".py",
      "mimetype": "text/x-python",
      "name": "python",
      "nbconvert_exporter": "python",
      "pygments_lexer": "ipython3",
      "version": "3.13.3"
    }
  },
  "nbformat": 4,
  "nbformat_minor": 0
}
